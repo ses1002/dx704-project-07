{
  "cells": [
    {
      "cell_type": "markdown",
      "metadata": {
        "id": "Md413FzAvFD8"
      },
      "source": [
        "# DX 704 Week 7 Project\n",
        "\n",
        "This week's project will investigate issues in a quadcopter controller based using a linear quadratic regulator.\n",
        "You will start with an existing model of the system and logs from a quadcopter based on it, investigate discrepancies, and ultimately train a new model of the system dynamics."
      ]
    },
    {
      "cell_type": "markdown",
      "metadata": {
        "id": "PTIhFidP-KvD"
      },
      "source": [
        "The full project description and a template notebook are available on GitHub: [Project 7 Materials](https://github.com/bu-cds-dx704/dx704-project-07).\n"
      ]
    },
    {
      "cell_type": "markdown",
      "metadata": {
        "id": "52eGFDLZdsBy"
      },
      "source": [
        "## Example Code\n",
        "\n",
        "You may find it helpful to refer to these GitHub repositories of Jupyter notebooks for example code.\n",
        "\n",
        "* https://github.com/bu-cds-omds/dx601-examples\n",
        "* https://github.com/bu-cds-omds/dx602-examples\n",
        "* https://github.com/bu-cds-omds/dx603-examples\n",
        "* https://github.com/bu-cds-omds/dx704-examples\n",
        "\n",
        "Any calculations demonstrated in code examples or videos may be found in these notebooks, and you are allowed to copy this example code in your homework answers."
      ]
    },
    {
      "cell_type": "markdown",
      "metadata": {
        "id": "d7IKpQFK_AGF"
      },
      "source": [
        "## Introduction\n",
        "\n",
        "You've just joined a drone startup.\n",
        "On your first day, you join your new team to watch a test flight for a new quadcopter prototype.\n",
        "Watching the prototype fly, the team comments that it is not as smooth as usual and suspects that something is off in the controller.\n",
        "They provide you a copy of the dynamics model and log data from the prototype to investigate."
      ]
    },
    {
      "cell_type": "markdown",
      "metadata": {
        "id": "_Ks7EK6h3ktC"
      },
      "source": [
        "The quadcopter control model is a slightly more sophisticated version of the 1D quadcopter problem previously considered.\n",
        "\n",
        "The state vector $\\mathbf{x}_t$ now includes an acceleration component, and the action vector now has a servo control for the throttle instead of a raw force component.\n",
        "\\begin{array}{rcl}\n",
        "\\mathbf{x}_t & = & \\begin{bmatrix} x_t \\\\ v_t \\\\ a_t \\end{bmatrix} \\\\\n",
        "\\mathbf{u_t} & = & \\begin{bmatrix} u_t \\end{bmatrix}\n",
        "\\end{array}"
      ]
    },
    {
      "cell_type": "markdown",
      "metadata": {
        "id": "C8oSLkMqvMFF"
      },
      "source": [
        "## Part 1: Reconstruct the Control Matrix\n",
        "\n",
        "You are provided the dynamics model in the files `model-A.tsv`, `model-B.tsv`, `cost-Q.tsv` and `cost-R.tsv`.\n",
        "Recompute the control matrix $\\mathbf{K}$ to be used in the infinite horizon linear quadratic regulator problem."
      ]
    },
    {
      "cell_type": "code",
      "execution_count": 2,
      "metadata": {},
      "outputs": [
        {
          "name": "stdout",
          "output_type": "stream",
          "text": [
            "\n",
            "\u001b[1m[\u001b[0m\u001b[34;49mnotice\u001b[0m\u001b[1;39;49m]\u001b[0m\u001b[39;49m A new release of pip is available: \u001b[0m\u001b[31;49m25.1.1\u001b[0m\u001b[39;49m -> \u001b[0m\u001b[32;49m25.2\u001b[0m\n",
            "\u001b[1m[\u001b[0m\u001b[34;49mnotice\u001b[0m\u001b[1;39;49m]\u001b[0m\u001b[39;49m To update, run: \u001b[0m\u001b[32;49mpython -m pip install --upgrade pip\u001b[0m\n",
            "Note: you may need to restart the kernel to use updated packages.\n"
          ]
        }
      ],
      "source": [
        "%pip install -q control"
      ]
    },
    {
      "cell_type": "code",
      "execution_count": 3,
      "metadata": {
        "id": "Pdpurx_Ym3F6"
      },
      "outputs": [],
      "source": [
        "# YOUR CHANGES HERE\n",
        "\n",
        "import pandas as pd\n",
        "import matplotlib.pyplot as plt\n",
        "import numpy as np\n",
        "\n",
        "import control\n",
        "\n",
        "# Load the tsv files \n",
        "A = pd.read_csv('model-A.tsv', sep='\\t', index_col=0).values\n",
        "B = pd.read_csv('model-B.tsv', sep='\\t', index_col=0).values\n",
        "Q = pd.read_csv('cost-Q.tsv', sep='\\t', index_col=0).values\n",
        "R = pd.read_csv('cost-R.tsv', sep='\\t', index_col=0).values\n"
      ]
    },
    {
      "cell_type": "markdown",
      "metadata": {
        "id": "BDS1s6W9m5G1"
      },
      "source": [
        "Save $\\mathbf{K}$ in a file \"control-K-intended.tsv\" with columns x, v and a."
      ]
    },
    {
      "cell_type": "code",
      "execution_count": 4,
      "metadata": {
        "id": "heCP8JhgnEIC"
      },
      "outputs": [],
      "source": [
        "# YOUR CHANGES HERE\n",
        "\n",
        "K, _, _ = control.dlqr(A, B, Q, R)\n",
        "\n",
        "\n",
        "df_K = pd.DataFrame(K, columns=['x', 'v', 'a'])\n",
        "df_K.to_csv('control-K-intended.tsv', sep='\\t', index=False)"
      ]
    },
    {
      "cell_type": "markdown",
      "metadata": {
        "id": "emwSwtKjnG8y"
      },
      "source": [
        "Submit \"control-K-intended.tsv\" in Gradescope."
      ]
    },
    {
      "cell_type": "markdown",
      "metadata": {
        "id": "fqbtALHx_z7l"
      },
      "source": [
        "## Part 2: Recompute the Actions for the Logged States\n",
        "\n",
        "You get access to the log data for the prototype as the file \"qc-log.tsv\".\n",
        "It conveniently saves all the state and actions made.\n",
        "Recompute the actions based on your $\\mathbf{K}$ matrix computed in part 1."
      ]
    },
    {
      "cell_type": "code",
      "execution_count": 12,
      "metadata": {
        "id": "DsbCg2TjoFpp"
      },
      "outputs": [],
      "source": [
        "# YOUR CHANGES HERE\n",
        "\n",
        "\n",
        "log = pd.read_csv('qc-log.tsv', sep='\\t')\n",
        "\n",
        "# Load from part 1\n",
        "K = pd.read_csv('control-K-intended.tsv', sep='\\t').values\n",
        "\n",
        "# This is to extract state vector columns x, v, a\n",
        "X = log[['x', 'v', 'a']].values.T  \n",
        "\n",
        "\n",
        "u_check = -K @ X  \n",
        "\n",
        "df_u = pd.DataFrame({\n",
        "    'index': log.index,\n",
        "    'u_check': u_check.flatten()\n",
        "})\n",
        "\n"
      ]
    },
    {
      "cell_type": "markdown",
      "metadata": {
        "id": "6Z2gHEGBoIjL"
      },
      "source": [
        "Save your computed actions as \"qc-check.tsv\" with columns \"index\" and \"u_check\"."
      ]
    },
    {
      "cell_type": "code",
      "execution_count": 11,
      "metadata": {
        "id": "vbyMYtMLoS72"
      },
      "outputs": [],
      "source": [
        "# YOUR CHANGES HERE\n",
        "\n",
        "df_u.to_csv('qc-check.tsv', sep='\\t', index=False)"
      ]
    },
    {
      "cell_type": "markdown",
      "metadata": {
        "id": "PDCUyNOfoUzm"
      },
      "source": [
        "Submit \"qc-check.tsv\" in Gradescope."
      ]
    },
    {
      "cell_type": "markdown",
      "metadata": {
        "id": "7Z20uZNHABA-"
      },
      "source": [
        "## Part 3: Reverse Engineer the Actual Control Matrix\n",
        "\n",
        "Now that you have found a systematic difference between your computed actions and the logged actions, estimate $\n",
        "$, the control matrix that was actually used to choose actions in the prototype."
      ]
    },
    {
      "cell_type": "markdown",
      "metadata": {
        "id": "lGoHdtel2iVm"
      },
      "source": [
        "Hint: With a linear quadratic regulator, the optimal actions are always linear combinations of the state that are calculated using the control matrix.\n",
        "You can use linear regression to reverse-engineer the coefficients in the control matrix."
      ]
    },
    {
      "cell_type": "code",
      "execution_count": 14,
      "metadata": {
        "id": "Ab7XnMej21RN"
      },
      "outputs": [],
      "source": [
        "# YOUR CHANGES HERE\n",
        "log = pd.read_csv('qc-log.tsv', sep='\\t')\n",
        "\n",
        "# Extract state and action values\n",
        "X = log[['x', 'v', 'a']].values.T  # shape: (3, N)\n",
        "U = log['u'].values.reshape(1, -1)  # shape: (1, N)\n",
        "\n",
        "# Solve for -K_actual \n",
        "K_actual = -U @ X.T @ np.linalg.inv(X @ X.T)\n",
        "\n"
      ]
    },
    {
      "cell_type": "markdown",
      "metadata": {
        "id": "M7zG_6NT23fq"
      },
      "source": [
        "Save $\\mathbf{K}_{\\mathrm{actual}}$ in \"control-K-actual.tsv\" with the same format as \"control-K-intended.tsv\"."
      ]
    },
    {
      "cell_type": "code",
      "execution_count": null,
      "metadata": {
        "id": "hPAaZI3M3DKB"
      },
      "outputs": [
        {
          "data": {
            "text/plain": [
              "Ellipsis"
            ]
          },
          "execution_count": 8,
          "metadata": {},
          "output_type": "execute_result"
        }
      ],
      "source": [
        "# YOUR CHANGES HERE\n",
        "\n",
        "df_K_actual = pd.DataFrame(K_actual, columns=['x', 'v', 'a'])\n",
        "df_K_actual.to_csv('control-K-actual.tsv', sep='\\t', index=False)\n"
      ]
    },
    {
      "cell_type": "markdown",
      "metadata": {
        "id": "EFmODg3W3D2u"
      },
      "source": [
        "Submit \"control-k-actual.tsv\" in Gradescope."
      ]
    },
    {
      "cell_type": "markdown",
      "metadata": {
        "id": "wSuXyz6LAYjK"
      },
      "source": [
        "## Part 4: Recompute the System Dynamics from the Log Data\n",
        "\n",
        "On further investigation, it turns out that the control matrix $\\mathbf{K}$ in the prototype was modified to compensate for state prediction errors.\n",
        "You would like to recompute the $\\mathbf{A}$ and $\\mathbf{B}$ matrices using the log data since they are used to predict the next states.\n",
        "However, since the action vector $\\mathbf{u}_t$ is linearly dependent on the state via $\\mathbf{u}_t=-\\mathbf{K} \\mathbf{x}_t$, you need a new data set so you can separate the effects of the $\\mathbf{A}$ and $\\mathbf{B}$ matrices.\n",
        "Your co-workers kindly provide a new file \"qc-train.tsv\" where noise was added to each action.\n",
        "Estimate the true $\\mathbf{A}$ and $\\mathbf{B}$ matrices based on this file."
      ]
    },
    {
      "cell_type": "code",
      "execution_count": 15,
      "metadata": {
        "id": "13UYre915olG"
      },
      "outputs": [],
      "source": [
        "# YOUR CHANGES HERE\n",
        "\n",
        "train = pd.read_csv('qc-train.tsv', sep='\\t')\n",
        "\n",
        "X_t = train[['x', 'v', 'a']].values[:-1].T  \n",
        "U_t = train['u'].values[:-1].reshape(1, -1)  \n",
        "\n",
        "X_next = train[['x', 'v', 'a']].values[1:].T  \n",
        "\n",
        "XU = np.vstack([X_t, U_t]) \n",
        "\n",
        "AB = X_next @ np.linalg.pinv(XU)  \n",
        "\n",
        "# Split into A and B\n",
        "A_new = AB[:, :3]\n",
        "B_new = AB[:, 3:]"
      ]
    },
    {
      "cell_type": "markdown",
      "metadata": {
        "id": "_Sxidkjb5phM"
      },
      "source": [
        "Save $\\mathbf{A}$ and $\\mathbf{B}$ to \"model-A-new.tsv\" and \"model-B-new.tsv\" respectively."
      ]
    },
    {
      "cell_type": "code",
      "execution_count": 16,
      "metadata": {
        "id": "LzcREdX_5pFS"
      },
      "outputs": [],
      "source": [
        "# YOUR CHANGES HERE\n",
        "\n",
        "pd.DataFrame(A_new, columns=['x', 'v', 'a']).to_csv('model-A-new.tsv', sep='\\t', index=False)\n",
        "pd.DataFrame(B_new, columns=['u']).to_csv('model-B-new.tsv', sep='\\t', index=False)"
      ]
    },
    {
      "cell_type": "markdown",
      "metadata": {
        "id": "UNkBsDgD5vIn"
      },
      "source": [
        "Submit \"model-A-new.tsv\" and \"model-B-new.tsv\" in Gradescope."
      ]
    },
    {
      "cell_type": "markdown",
      "metadata": {
        "id": "smsTLuFcvR-I"
      },
      "source": [
        "## Part 5: Code\n",
        "\n",
        "Please submit a Jupyter notebook that can reproduce all your calculations and recreate the previously submitted files.\n",
        "You do not need to provide code for data collection if you did that by manually."
      ]
    },
    {
      "cell_type": "markdown",
      "metadata": {
        "id": "zi8lV2pbvWMs"
      },
      "source": [
        "## Part 6: Acknowledgements\n",
        "\n",
        "If you discussed this assignment with anyone, please acknowledge them here.\n",
        "If you did this assignment completely on your own, simply write none below.\n",
        "\n",
        "If you used any libraries not mentioned in this module's content, please list them with a brief explanation what you used them for. If you did not use any other libraries, simply write none below.\n",
        "\n",
        "If you used any generative AI tools, please add links to your transcripts below, and any other information that you feel is necessary to comply with the generative AI policy. If you did not use any generative AI tools, simply write none below."
      ]
    },
    {
      "cell_type": "code",
      "execution_count": 17,
      "metadata": {},
      "outputs": [],
      "source": [
        "with open(\"acknowledgments.txt\", \"w\") as f:\n",
        "    f.write(\"\"\"Acknowledgements:\n",
        "I used the 704 example code for guidance and ChatGPT for proofreading my work.\"\"\")"
      ]
    }
  ],
  "metadata": {
    "colab": {
      "toc_visible": false
    },
    "kernelspec": {
      "display_name": "Python 3",
      "name": "python3"
    },
    "language_info": {
      "codemirror_mode": {
        "name": "ipython",
        "version": 3
      },
      "file_extension": ".py",
      "mimetype": "text/x-python",
      "name": "python",
      "nbconvert_exporter": "python",
      "pygments_lexer": "ipython3",
      "version": "3.12.1"
    }
  },
  "nbformat": 4,
  "nbformat_minor": 0
}
